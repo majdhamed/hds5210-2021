{
 "cells": [
  {
   "cell_type": "markdown",
   "metadata": {},
   "source": [
    "# Week 8 Assignment\n",
    "\n",
    "_MkKinney 6.1_\n",
    "\n",
    "This week has been all about getting information off the internet both in structured data formats (CSV, JSON, etc) as well as HTML.  For these exercises, we're going to use two practical examples of fetching data from web pages to show how to use Pandas and BeautifulSoup to extract structured information from the web.\n",
    "\n",
    "---\n",
    "---"
   ]
  },
  {
   "cell_type": "markdown",
   "metadata": {},
   "source": [
    "### 33.1 Parsing a list in HTML\n",
    "\n",
    "Go to the Banner Health Price Transparency Page: https://www.bannerhealth.com/patients/billing/pricing-resources/hospital-price-transparency\n",
    "\n",
    "Notice that there is a list of hospitals and the city they are in.  We want to parse the underlying HTML to create a list of all the hospitals along with which city they're in.\n",
    "\n",
    "```json\n",
    "[\n",
    "    [\"Banner - University Medical Center Phoenix\", \"Arizona\"],\n",
    "    [\"Banner - University Medical Center South \", \"Arizona\"],\n",
    "    ...\n",
    "]\n",
    "```\n",
    "\n",
    "To examine the underlying HTML code, you can use Chrome, right-click, and choose **Inspect**.\n",
    "\n",
    "For reference, the documentation for BeautifulSoup is here: https://www.crummy.com/software/BeautifulSoup/bs4/doc/\n"
   ]
  },
  {
   "cell_type": "code",
   "execution_count": 1,
   "metadata": {},
   "outputs": [],
   "source": [
    "from bs4 import BeautifulSoup\n",
    "import requests\n",
    "headers = { \"User-Agent\": \"Mozilla/5.0 (Macintosh; Intel Mac OS X 11_2_3) AppleWebKit/537.36 (KHTML, like Gecko) Chrome/89.0.4389.90 Safari/537.36\" }\n",
    "\n",
    "response = requests.get('https://www.bannerhealth.com/patients/billing/pricing-resources/hospital-price-transparency', headers=headers)\n",
    "soup = BeautifulSoup(response.text, 'html.parser')"
   ]
  },
  {
   "cell_type": "code",
   "execution_count": 2,
   "metadata": {},
   "outputs": [
    {
     "name": "stdout",
     "output_type": "stream",
     "text": [
      "Arizona Banner - University Medical Center Phoenix\n",
      "Arizona Banner - University Medical Center South \n",
      "Arizona Banner - University Medical Center Tucson\n",
      "Arizona Banner Baywood Medical Center \n",
      "Arizona Banner Behavioral Health Hospital\n",
      "Arizona Banner Boswell Medical Center\n",
      "Arizona Banner Casa Grande Medical Center\n",
      "Arizona Banner Del E. Webb Medical Center\n",
      "Arizona Banner Desert Medical Center/Cardon Children's Medical Center  \n",
      "Arizona Banner Estrella Medical Center\n",
      "Arizona Banner Gateway Medical Center/Banner MD Anderson Cancer Center\n",
      "Arizona Banner Goldfield Medical Center  \n",
      "Arizona Banner Heart Hospital\n",
      "Arizona Banner Ironwood Medical Center\n",
      "Arizona Banner Ocotillo Medical Center\n",
      "Arizona Banner Payson Medical Center\n",
      "Arizona Banner Thunderbird Medical Center\n",
      "Arizona Page Hospital\n",
      "California Banner Lassen Medical Center\n",
      "Colorado Banner Fort Collins Medical Center\n",
      "Colorado McKee Medical Center\n",
      "Colorado North Colorado Medical Center\n",
      "Colorado Sterling Regional Medical Center\n",
      "Colorado East Morgan County Hospital\n",
      "Nebraska Ogallala Community Hospital\n",
      "Nevada Banner Churchill Community Hospital\n",
      "Wyoming Banner Wyoming Medical Center\n",
      "Wyoming Community Hospital\n",
      "Wyoming Washakie Medical Center\n",
      "Wyoming Platte County Memorial Hospital\n",
      "State-Specific Regulations Arizona\n",
      "State-Specific Regulations California\n",
      "State-Specific Regulations Colorado\n",
      "State-Specific Regulations Nebraska\n",
      "State-Specific Regulations Nevada\n",
      "State-Specific Regulations Wyoming\n"
     ]
    }
   ],
   "source": [
    "div = soup.find_all('div', {\"class\":\"col-md-8\"})[0]\n",
    "for hospital_list in div.find_all('ul'):\n",
    "    state = hospital_list.previous_sibling.previous_sibling.string\n",
    "    for hospital in hospital_list.find_all('li'):\n",
    "        print(state, hospital.text)"
   ]
  },
  {
   "cell_type": "markdown",
   "metadata": {},
   "source": [
    "---\n",
    "\n",
    "### 33.2 Using Pandas to Read Tables\n",
    "\n",
    "\n",
    "Pandas documentation for loading data https://pandas.pydata.org/pandas-docs/version/0.23.4/api.html#input-output\n",
    "\n",
    "Pandas documentation for describing the shape of data https://pandas.pydata.org/pandas-docs/version/0.23.4/generated/pandas.DataFrame.shape.html"
   ]
  },
  {
   "cell_type": "code",
   "execution_count": 3,
   "metadata": {},
   "outputs": [],
   "source": [
    "import pandas as pd"
   ]
  },
  {
   "cell_type": "code",
   "execution_count": 4,
   "metadata": {},
   "outputs": [
    {
     "data": {
      "text/plain": [
       "5"
      ]
     },
     "execution_count": 4,
     "metadata": {},
     "output_type": "execute_result"
    }
   ],
   "source": [
    "tables = pd.read_html('https://en.wikipedia.org/wiki/Diagnosis-related_group')\n",
    "len(tables)"
   ]
  },
  {
   "cell_type": "code",
   "execution_count": 5,
   "metadata": {},
   "outputs": [
    {
     "name": "stdout",
     "output_type": "stream",
     "text": [
      "**************TABLE 0\n",
      "    0                                                  1\n",
      "0 NaN  This article has multiple issues. Please help ...\n",
      "1 NaN  This article needs to be updated. Please updat...\n",
      "2 NaN  This article needs additional citations for ve...\n",
      "**************TABLE 1\n",
      "    0                                                  1\n",
      "0 NaN  This article needs to be updated. Please updat...\n",
      "**************TABLE 2\n",
      "    0                                                  1\n",
      "0 NaN  This article needs additional citations for ve...\n",
      "**************TABLE 3\n",
      "   Hypothetical patient at Generic Hospital in San Francisco, CA, DRG 482, HIP & FEMUR PROCEDURES EXCEPT MAJOR JOINT W/O CC/MCC (2001)[15]:8  \\\n",
      "0                                         Description                                                                                          \n",
      "1                              Average length of stay                                                                                          \n",
      "2                      Large urban labor-related rate                                                                                          \n",
      "3                       Large urban non-labor-related                                                                                          \n",
      "4                                          Wage index                                                                                          \n",
      "5   Standard Federal Rate: labor * wage index + no...                                                                                          \n",
      "6                     DRG relative weight (RW) factor                                                                                          \n",
      "7    Weighted payment: Standard Federal Rate * DRG RW                                                                                          \n",
      "8                Disproportionate Share Payment (DSH)                                                                                          \n",
      "9                    Indirect medical education (IME)                                                                                          \n",
      "10                   Total cost outlier reimbursement                                                                                          \n",
      "11  Total operating payment: Weighted payment * (1...                                                                                          \n",
      "\n",
      "   Hypothetical patient at Generic Hospital in San Francisco, CA, DRG 482, HIP & FEMUR PROCEDURES EXCEPT MAJOR JOINT W/O CC/MCC (2001)[15]:8.1  \n",
      "0                                               Value                                                                                           \n",
      "1                                             3.8[16]                                                                                           \n",
      "2                                           $2,809.18                                                                                           \n",
      "3                                           $1,141.85                                                                                           \n",
      "4                                              1.4193                                                                                           \n",
      "5                                           $5,128.92                                                                                           \n",
      "6                                              1.8128                                                                                           \n",
      "7                                           $9,297.71                                                                                           \n",
      "8                                              0.1413                                                                                           \n",
      "9                                              0.0744                                                                                           \n",
      "10                                                 $0                                                                                           \n",
      "11                                         $11,303.23                                                                                           \n",
      "**************TABLE 4\n",
      "     Name  Version       Start date  \\\n",
      "0  MS-DRG       25  October 1, 2007   \n",
      "1  MS-DRG       26  October 1, 2008   \n",
      "2  MS-DRG       27  October 1, 2009   \n",
      "3  MS-DRG       31  October 1, 2013   \n",
      "4  MS-DRG       32  October 1, 2014   \n",
      "5  MS-DRG       33  October 1, 2015   \n",
      "6  MS-DRG       34  October 1, 2016   \n",
      "7  MS-DRG       35  October 1, 2017   \n",
      "\n",
      "                                               Notes  \n",
      "0  Group numbers resequenced, so that for instanc...  \n",
      "1  One main change: implementation of Hospital Ac...  \n",
      "2  Changes involved are mainly related to Influen...  \n",
      "3                                                NaN  \n",
      "4                                                NaN  \n",
      "5            Convert from ICD-9-CM to ICD-10-CM.[17]  \n",
      "6  Address ICD-10 replication issues introduced i...  \n",
      "7  MS-DRGs 984 through 986 deleted and reassigned...  \n"
     ]
    }
   ],
   "source": [
    "for index,table in enumerate(tables):\n",
    "    print(\"**************TABLE {}\".format(index))\n",
    "    print(table)"
   ]
  },
  {
   "cell_type": "code",
   "execution_count": 6,
   "metadata": {},
   "outputs": [
    {
     "data": {
      "text/html": [
       "<div>\n",
       "<style scoped>\n",
       "    .dataframe tbody tr th:only-of-type {\n",
       "        vertical-align: middle;\n",
       "    }\n",
       "\n",
       "    .dataframe tbody tr th {\n",
       "        vertical-align: top;\n",
       "    }\n",
       "\n",
       "    .dataframe thead th {\n",
       "        text-align: right;\n",
       "    }\n",
       "</style>\n",
       "<table border=\"1\" class=\"dataframe\">\n",
       "  <thead>\n",
       "    <tr style=\"text-align: right;\">\n",
       "      <th></th>\n",
       "      <th>Name</th>\n",
       "      <th>Version</th>\n",
       "      <th>Start date</th>\n",
       "      <th>Notes</th>\n",
       "    </tr>\n",
       "  </thead>\n",
       "  <tbody>\n",
       "    <tr>\n",
       "      <th>0</th>\n",
       "      <td>MS-DRG</td>\n",
       "      <td>25</td>\n",
       "      <td>October 1, 2007</td>\n",
       "      <td>Group numbers resequenced, so that for instanc...</td>\n",
       "    </tr>\n",
       "    <tr>\n",
       "      <th>1</th>\n",
       "      <td>MS-DRG</td>\n",
       "      <td>26</td>\n",
       "      <td>October 1, 2008</td>\n",
       "      <td>One main change: implementation of Hospital Ac...</td>\n",
       "    </tr>\n",
       "    <tr>\n",
       "      <th>2</th>\n",
       "      <td>MS-DRG</td>\n",
       "      <td>27</td>\n",
       "      <td>October 1, 2009</td>\n",
       "      <td>Changes involved are mainly related to Influen...</td>\n",
       "    </tr>\n",
       "    <tr>\n",
       "      <th>3</th>\n",
       "      <td>MS-DRG</td>\n",
       "      <td>31</td>\n",
       "      <td>October 1, 2013</td>\n",
       "      <td>NaN</td>\n",
       "    </tr>\n",
       "    <tr>\n",
       "      <th>4</th>\n",
       "      <td>MS-DRG</td>\n",
       "      <td>32</td>\n",
       "      <td>October 1, 2014</td>\n",
       "      <td>NaN</td>\n",
       "    </tr>\n",
       "    <tr>\n",
       "      <th>5</th>\n",
       "      <td>MS-DRG</td>\n",
       "      <td>33</td>\n",
       "      <td>October 1, 2015</td>\n",
       "      <td>Convert from ICD-9-CM to ICD-10-CM.[17]</td>\n",
       "    </tr>\n",
       "    <tr>\n",
       "      <th>6</th>\n",
       "      <td>MS-DRG</td>\n",
       "      <td>34</td>\n",
       "      <td>October 1, 2016</td>\n",
       "      <td>Address ICD-10 replication issues introduced i...</td>\n",
       "    </tr>\n",
       "    <tr>\n",
       "      <th>7</th>\n",
       "      <td>MS-DRG</td>\n",
       "      <td>35</td>\n",
       "      <td>October 1, 2017</td>\n",
       "      <td>MS-DRGs 984 through 986 deleted and reassigned...</td>\n",
       "    </tr>\n",
       "  </tbody>\n",
       "</table>\n",
       "</div>"
      ],
      "text/plain": [
       "     Name  Version       Start date  \\\n",
       "0  MS-DRG       25  October 1, 2007   \n",
       "1  MS-DRG       26  October 1, 2008   \n",
       "2  MS-DRG       27  October 1, 2009   \n",
       "3  MS-DRG       31  October 1, 2013   \n",
       "4  MS-DRG       32  October 1, 2014   \n",
       "5  MS-DRG       33  October 1, 2015   \n",
       "6  MS-DRG       34  October 1, 2016   \n",
       "7  MS-DRG       35  October 1, 2017   \n",
       "\n",
       "                                               Notes  \n",
       "0  Group numbers resequenced, so that for instanc...  \n",
       "1  One main change: implementation of Hospital Ac...  \n",
       "2  Changes involved are mainly related to Influen...  \n",
       "3                                                NaN  \n",
       "4                                                NaN  \n",
       "5            Convert from ICD-9-CM to ICD-10-CM.[17]  \n",
       "6  Address ICD-10 replication issues introduced i...  \n",
       "7  MS-DRGs 984 through 986 deleted and reassigned...  "
      ]
     },
     "execution_count": 6,
     "metadata": {},
     "output_type": "execute_result"
    }
   ],
   "source": [
    "drgs = tables[4]\n",
    "drgs\n"
   ]
  },
  {
   "cell_type": "markdown",
   "metadata": {},
   "source": [
    "---\n",
    "\n",
    "### 33.3 Find Something of Your Own\n",
    "\n",
    "Do some web searches and find an HTML page with some data that is interesting to something you're studying.  You can extract and parse that information using either BeautifulSoup or Pandas.  If you're using Pandas, then do something interesting to format and structure your data.  If you're using BeautifulSoup, you'll just need to do the work of parsing the data out of HTML -- that's hard enough!\n",
    "\n",
    "You don't need to build this as a function.  Just use notebook cells as I've done above.  You will be graded based on _style_.  Use variable names that make sense for your problem / solution. Cleanup anything you don't need before you submit your work."
   ]
  },
  {
   "cell_type": "code",
   "execution_count": 7,
   "metadata": {},
   "outputs": [],
   "source": [
    "# Your Code Here"
   ]
  },
  {
   "cell_type": "code",
   "execution_count": 8,
   "metadata": {},
   "outputs": [],
   "source": [
    "from bs4 import BeautifulSoup\n",
    "import requests\n",
    "import pandas as pd\n",
    "\n",
    "wiki_url='https://en.wikipedia.org/wiki/Obesity_in_the_United_States'\n",
    "table_class=\"wikitable sortable\"\n",
    "\n",
    "response=requests.get(wiki_url)\n",
    "soup = BeautifulSoup(response.text, 'html.parser')\n",
    "\n",
    "obesity_chart=soup.find('table', {'class':table_class})\n",
    "\n",
    "df=pd.read_html(str(obesity_chart))"
   ]
  },
  {
   "cell_type": "code",
   "execution_count": 9,
   "metadata": {},
   "outputs": [
    {
     "name": "stdout",
     "output_type": "stream",
     "text": [
      "[   States, district, & territories Obesity rank Obese adults (mid-2000s)  \\\n",
      "0                          Alabama            5                    30.1%   \n",
      "1                           Alaska            9                    27.3%   \n",
      "2                   American Samoa            —                        —   \n",
      "3                          Arizona           30                    23.3%   \n",
      "4                         Arkansas            7                    28.1%   \n",
      "5                       California           48                    23.1%   \n",
      "6                         Colorado           51                    21.0%   \n",
      "7                      Connecticut           42                    20.8%   \n",
      "8                         Delaware           23                    25.9%   \n",
      "9             District of Columbia           50                    22.1%   \n",
      "10                         Florida           35                    23.3%   \n",
      "11                         Georgia           24                    27.5%   \n",
      "12                            Guam            —                        —   \n",
      "13                          Hawaii           49                    20.7%   \n",
      "14                           Idaho           32                    24.6%   \n",
      "15                        Illinois           27                    25.3%   \n",
      "16                         Indiana           12                    27.5%   \n",
      "17                            Iowa            4                    26.3%   \n",
      "18                          Kansas           18                    25.8%   \n",
      "19                        Kentucky            8                    28.4%   \n",
      "20                       Louisiana            6                    29.5%   \n",
      "21                           Maine           33                    23.7%   \n",
      "22                        Maryland           26                    25.2%   \n",
      "23                   Massachusetts           44                    20.9%   \n",
      "24                        Michigan           19                    27.7%   \n",
      "25                       Minnesota           35                    24.8%   \n",
      "26                     Mississippi            2                    34.4%   \n",
      "27                        Missouri           17                    27.4%   \n",
      "28                         Montana           46                    21.7%   \n",
      "29                        Nebraska           15                    26.5%   \n",
      "30                          Nevada           43                    23.6%   \n",
      "31                   New Hampshire           38                    23.6%   \n",
      "32                      New Jersey           41                    22.9%   \n",
      "33                      New Mexico           35                    23.3%   \n",
      "34                        New York           45                    23.5%   \n",
      "35                  North Carolina           20                    27.1%   \n",
      "36                    North Dakota           13                    25.9%   \n",
      "37        Northern Mariana Islands            —                        —   \n",
      "38                            Ohio           11                    26.9%   \n",
      "39                        Oklahoma            3                    28.1%   \n",
      "40                          Oregon           31                    25.0%   \n",
      "41                    Pennsylvania           24                    25.7%   \n",
      "42                     Puerto Rico            —                        —   \n",
      "43                    Rhode Island           29                    21.4%   \n",
      "44                  South Carolina           10                    29.2%   \n",
      "45                    South Dakota           22                    26.1%   \n",
      "46                       Tennessee           15                    29.0%   \n",
      "47                           Texas           14                    27.2%   \n",
      "48                            Utah           46                    21.8%   \n",
      "49                         Vermont           40                    21.1%   \n",
      "50           Virgin Islands (U.S.)            —                        —   \n",
      "51                        Virginia           28                    25.2%   \n",
      "52                      Washington           39                    24.5%   \n",
      "53                   West Virginia            1                    30.6%   \n",
      "54                       Wisconsin           21                    25.5%   \n",
      "55                         Wyoming           34                    24.0%   \n",
      "\n",
      "   Obese adults (2020)[78][73][79] Overweight (incl. obese) adults(mid-2000s)  \\\n",
      "0                            36.3%                                      65.4%   \n",
      "1                            34.2%                                      64.5%   \n",
      "2                          75%[77]                                    95%[81]   \n",
      "3                            29.5%                                      59.5%   \n",
      "4                            35.0%                                      64.7%   \n",
      "5                            25.1%                                      59.4%   \n",
      "6                            22.6%                                      55.0%   \n",
      "7                            26.9%                                      58.7%   \n",
      "8                            31.8%                                      63.9%   \n",
      "9                            23.0%                                      55.0%   \n",
      "10                           28.4%                                      60.8%   \n",
      "11                           31.6%                                      63.3%   \n",
      "12                           28.3%                                          —   \n",
      "13                           23.8%                                      55.3%   \n",
      "14                           29.3%                                      61.4%   \n",
      "15                           31.1%                                      61.8%   \n",
      "16                           33.6%                                      62.8%   \n",
      "17                           36.4%                                      63.4%   \n",
      "18                           32.4%                                      62.3%   \n",
      "19                           34.3%                                      66.8%   \n",
      "20                           36.2%                                      64.2%   \n",
      "21                           29.1%                                      60.8%   \n",
      "22                           31.3%                                      61.5%   \n",
      "23                           25.9%                                      56.8%   \n",
      "24                           32.3%                                      63.9%   \n",
      "25                           28.4%                                      61.9%   \n",
      "26                           37.3%                                      67.4%   \n",
      "27                           32.5%                                      63.3%   \n",
      "28                           25.3%                                      59.6%   \n",
      "29                           32.8%                                      63.9%   \n",
      "30                           26.7%                                      61.8%   \n",
      "31                           28.1%                                      60.8%   \n",
      "32                           27.3%                                      60.5%   \n",
      "33                           28.4%                                      60.3%   \n",
      "34                           25.7%                                      60.0%   \n",
      "35                           32.1%                                      63.4%   \n",
      "36                           33.2%                                      64.5%   \n",
      "37                               —                                          —   \n",
      "38                           33.8%                                      63.3%   \n",
      "39                           36.5%                                      64.2%   \n",
      "40                           29.4%                                      60.8%   \n",
      "41                           31.6%                                      61.9%   \n",
      "42                           30.7%                                          —   \n",
      "43                           30.0%                                      60.4%   \n",
      "44                           34.1%                                      65.1%   \n",
      "45                           31.9%                                      64.2%   \n",
      "46                           32.8%                                      65.0%   \n",
      "47                           33.0%                                      64.1%   \n",
      "48                           25.3%                                      56.4%   \n",
      "49                           27.6%                                      56.9%   \n",
      "50                           32.5%                                          —   \n",
      "51                           30.1%                                      61.6%   \n",
      "52                           27.7%                                      60.7%   \n",
      "53                           38.1%                                      66.8%   \n",
      "54                           32.0%                                      62.4%   \n",
      "55                           28.8%                                      61.7%   \n",
      "\n",
      "   Obese children and adolescents(mid-2000s)[80]  \n",
      "0                                          16.7%  \n",
      "1                                          11.1%  \n",
      "2                                    35%[77][82]  \n",
      "3                                          12.2%  \n",
      "4                                          16.4%  \n",
      "5                                          13.2%  \n",
      "6                                           9.9%  \n",
      "7                                          12.3%  \n",
      "8                                          22.8%  \n",
      "9                                          14.8%  \n",
      "10                                         14.4%  \n",
      "11                                         16.4%  \n",
      "12                                       22%[83]  \n",
      "13                                         13.3%  \n",
      "14                                         10.1%  \n",
      "15                                         15.8%  \n",
      "16                                         15.6%  \n",
      "17                                         12.5%  \n",
      "18                                         14.0%  \n",
      "19                                         20.6%  \n",
      "20                                         17.2%  \n",
      "21                                         12.7%  \n",
      "22                                         13.3%  \n",
      "23                                         13.6%  \n",
      "24                                         14.5%  \n",
      "25                                         10.1%  \n",
      "26                                         17.8%  \n",
      "27                                         15.6%  \n",
      "28                                         11.1%  \n",
      "29                                         11.9%  \n",
      "30                                         12.4%  \n",
      "31                                         12.9%  \n",
      "32                                         13.7%  \n",
      "33                                         16.8%  \n",
      "34                                         15.3%  \n",
      "35                                         19.3%  \n",
      "36                                         12.1%  \n",
      "37                                       16%[84]  \n",
      "38                                         14.2%  \n",
      "39                                         15.4%  \n",
      "40                                         14.1%  \n",
      "41                                         13.3%  \n",
      "42                                   26%[85][86]  \n",
      "43                                         11.9%  \n",
      "44                                         18.9%  \n",
      "45                                         12.1%  \n",
      "46                                         20.0%  \n",
      "47                                         19.1%  \n",
      "48                                          8.5%  \n",
      "49                                         11.3%  \n",
      "50                                             —  \n",
      "51                                         13.8%  \n",
      "52                                         10.8%  \n",
      "53                                         20.9%  \n",
      "54                                         13.5%  \n",
      "55                                          8.7%  ]\n"
     ]
    }
   ],
   "source": [
    "print (df)"
   ]
  },
  {
   "cell_type": "code",
   "execution_count": null,
   "metadata": {},
   "outputs": [],
   "source": []
  },
  {
   "cell_type": "code",
   "execution_count": null,
   "metadata": {},
   "outputs": [],
   "source": []
  },
  {
   "cell_type": "markdown",
   "metadata": {},
   "source": [
    "---\n",
    "\n",
    "## Submitting Your Work\n",
    "\n",
    "In order to submit your work, you'll need to use the `git` command line program to **add** your homework file (this file) to your local repository, **commit** your changes to your local repository, and then **push** those changes up to github.com.  From there, I'll be able to **pull** the changes down and do my grading.  I'll provide some feedback, **commit** and **push** my comments back to you.  Next week, I'll show you how to **pull** down my comments.\n",
    "\n",
    "To run through everything one last time and submit your work:\n",
    "1. Use the `Kernel` -> `Restart Kernel and Run All Cells` menu option to run everything from top to bottom and stop here.\n",
    "2. Save this note with Ctrl-S (or Cmd-S)\n",
    "2. Skip down to the last command cell (the one starting with `%%bash`) and run that cell.\n",
    "\n",
    "If anything fails along the way with this submission part of the process, let me know.  I'll help you troubleshoort."
   ]
  },
  {
   "cell_type": "code",
   "execution_count": 10,
   "metadata": {},
   "outputs": [
    {
     "ename": "AssertionError",
     "evalue": "DO NOT REMOVE THIS LINE",
     "output_type": "error",
     "traceback": [
      "\u001b[0;31m---------------------------------------------------------------------------\u001b[0m",
      "\u001b[0;31mAssertionError\u001b[0m                            Traceback (most recent call last)",
      "\u001b[0;32m<ipython-input-10-cef8011cb395>\u001b[0m in \u001b[0;36m<module>\u001b[0;34m\u001b[0m\n\u001b[0;32m----> 1\u001b[0;31m \u001b[0;32massert\u001b[0m \u001b[0;32mFalse\u001b[0m\u001b[0;34m,\u001b[0m \u001b[0;34m\"DO NOT REMOVE THIS LINE\"\u001b[0m\u001b[0;34m\u001b[0m\u001b[0;34m\u001b[0m\u001b[0m\n\u001b[0m",
      "\u001b[0;31mAssertionError\u001b[0m: DO NOT REMOVE THIS LINE"
     ]
    }
   ],
   "source": [
    "assert False, \"DO NOT REMOVE THIS LINE\""
   ]
  },
  {
   "cell_type": "markdown",
   "metadata": {},
   "source": [
    "---"
   ]
  },
  {
   "cell_type": "code",
   "execution_count": 11,
   "metadata": {},
   "outputs": [
    {
     "name": "stdout",
     "output_type": "stream",
     "text": [
      "Already up to date.\n",
      "[main a362552] Submitting the week 8 programming assignment\n",
      " 2 files changed, 721 insertions(+), 2 deletions(-)\n",
      " create mode 100644 week08/week08_assignment_2.ipynb\n"
     ]
    },
    {
     "name": "stderr",
     "output_type": "stream",
     "text": [
      "To github.com:majdhamed/hds5210-2021.git\n",
      "   72a0493..a362552  main -> main\n"
     ]
    }
   ],
   "source": [
    "%%bash\n",
    "git pull\n",
    "git add week08_assignment_2.ipynb\n",
    "git commit -a -m \"Submitting the week 8 programming assignment\"\n",
    "git push"
   ]
  },
  {
   "cell_type": "markdown",
   "metadata": {},
   "source": [
    "\n",
    "---\n",
    "\n",
    "If the message above says something like _Submitting the week 8 programming assignment_ or _Everything is up to date_, then your work was submitted correctly."
   ]
  },
  {
   "cell_type": "code",
   "execution_count": null,
   "metadata": {},
   "outputs": [],
   "source": []
  }
 ],
 "metadata": {
  "kernelspec": {
   "display_name": "Python 3",
   "language": "python",
   "name": "python3"
  },
  "language_info": {
   "codemirror_mode": {
    "name": "ipython",
    "version": 3
   },
   "file_extension": ".py",
   "mimetype": "text/x-python",
   "name": "python",
   "nbconvert_exporter": "python",
   "pygments_lexer": "ipython3",
   "version": "3.6.7"
  }
 },
 "nbformat": 4,
 "nbformat_minor": 4
}
