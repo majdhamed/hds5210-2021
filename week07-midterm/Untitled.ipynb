{
 "cells": [
  {
   "cell_type": "code",
   "execution_count": 1,
   "metadata": {},
   "outputs": [
    {
     "ename": "IndentationError",
     "evalue": "unexpected indent (<ipython-input-1-331e6f6af915>, line 3)",
     "output_type": "error",
     "traceback": [
      "\u001b[0;36m  File \u001b[0;32m\"<ipython-input-1-331e6f6af915>\"\u001b[0;36m, line \u001b[0;32m3\u001b[0m\n\u001b[0;31m    score=0\u001b[0m\n\u001b[0m    ^\u001b[0m\n\u001b[0;31mIndentationError\u001b[0m\u001b[0;31m:\u001b[0m unexpected indent\n"
     ]
    }
   ],
   "source": [
    " ### YOUR SOLUTION HERE\n",
    "\n",
    "    score=0\n",
    "    \n",
    "    \n",
    "    if age < 65:\n",
    "        score += 0\n",
    "    elif (age >=65) and (age <=74):\n",
    "        score += 1\n",
    "    elif age >= 75:\n",
    "        score += 2\n",
    "        \n",
    "    \n",
    "    if sex ==0:\n",
    "        msg=\"Male\"\n",
    "    elif sex == 1:\n",
    "        msg=\"Female\"\n",
    "    \n",
    "   \n",
    "    if chf:\n",
    "        score+=0\n",
    "    else:\n",
    "        score+=1\n",
    "        \n",
    "    \n",
    "    if hypertension:\n",
    "        score +=0\n",
    "    else:\n",
    "        score+=1\n",
    "    \n",
    "    if stroke:\n",
    "        score+=0\n",
    "    else:\n",
    "        score+=2\n",
    "        \n",
    "    if vascular:\n",
    "        score+=0\n",
    "    else:\n",
    "        score+=1\n",
    "    \n",
    "    if diabetes:\n",
    "        score+=0\n",
    "    else:\n",
    "        score+=1\n",
    "    \n",
    "    \n",
    "    \n",
    "    return score\n",
    "\n",
    "\n",
    "\n",
    "\n",
    "\n",
    "#part 1 \n",
    "     ### YOUR SOLUTION HERE\n",
    "\n",
    "    score=0\n",
    "    sex=0\n",
    "    chf=0\n",
    "    hypertension =0\n",
    "    stroke =0\n",
    "    vascular=0\n",
    "    diabetes=0\n",
    "    \n",
    "    if age < 65:\n",
    "        score += 0\n",
    "    elif (age >=65) and (age <=74):\n",
    "        score += 1\n",
    "    elif age >= 75:\n",
    "        score += 2\n",
    "        \n",
    "    \n",
    "    if sex ==0:\n",
    "        msg=\"Male\"\n",
    "    elif sex == 1:\n",
    "        msg=\"Female\"\n",
    "    \n",
    "   \n",
    "    if chf==0:\n",
    "        return False\n",
    "    elif chf==1:\n",
    "        return True\n",
    "        \n",
    "    \n",
    "    if hypertension==0:\n",
    "        return False\n",
    "    elif hypertenstion==1:\n",
    "        return True\n",
    "    \n",
    "    if stroke==0:\n",
    "        return False\n",
    "    elif stroke==2:\n",
    "        return True\n",
    "        \n",
    "        \n",
    "    if vascular==0:\n",
    "        return False\n",
    "    elif vascular==1:\n",
    "        return True\n",
    "        \n",
    "    \n",
    "    if diabetes==0:\n",
    "        return False\n",
    "    elif diabetes==1:\n",
    "        return True \n",
    "    \n",
    "    \n",
    "    \n",
    "    return score\n",
    "    \n",
    "    "
   ]
  },
  {
   "cell_type": "code",
   "execution_count": 4,
   "metadata": {},
   "outputs": [],
   "source": [
    "def foo():\n",
    "    return \"Hello World\"\n",
    "        "
   ]
  },
  {
   "cell_type": "code",
   "execution_count": 5,
   "metadata": {},
   "outputs": [
    {
     "name": "stdout",
     "output_type": "stream",
     "text": [
      "Hello World\n"
     ]
    }
   ],
   "source": [
    "print(foo())"
   ]
  },
  {
   "cell_type": "code",
   "execution_count": null,
   "metadata": {},
   "outputs": [],
   "source": []
  }
 ],
 "metadata": {
  "kernelspec": {
   "display_name": "Python 3",
   "language": "python",
   "name": "python3"
  },
  "language_info": {
   "codemirror_mode": {
    "name": "ipython",
    "version": 3
   },
   "file_extension": ".py",
   "mimetype": "text/x-python",
   "name": "python",
   "nbconvert_exporter": "python",
   "pygments_lexer": "ipython3",
   "version": "3.6.7"
  }
 },
 "nbformat": 4,
 "nbformat_minor": 4
}
