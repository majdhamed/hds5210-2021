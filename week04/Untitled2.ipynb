{
 "cells": [
  {
   "cell_type": "code",
   "execution_count": 1,
   "metadata": {},
   "outputs": [
    {
     "data": {
      "text/plain": [
       "Type help() for interactive help, or help(object) for help about object."
      ]
     },
     "execution_count": 1,
     "metadata": {},
     "output_type": "execute_result"
    }
   ],
   "source": [
    "help "
   ]
  },
  {
   "cell_type": "code",
   "execution_count": 63,
   "metadata": {},
   "outputs": [],
   "source": [
    "names = [['Boal', 'Paul'],\n",
    "             ['Duck', 'Donald'],\n",
    "             ['Duck', 'Daisy'],\n",
    "             ['Boal', 'Ada'],\n",
    "             ['Boal', 'Teddy'],\n",
    "             ['Westhus', 'Eric']]"
   ]
  },
  {
   "cell_type": "code",
   "execution_count": 82,
   "metadata": {},
   "outputs": [
    {
     "name": "stdout",
     "output_type": "stream",
     "text": [
      "Westhus, Eric\n",
      "{'Boal': ['Paul', 'Ada', 'Teddy'], 'Duck': ['Donald', 'Daisy'], 'Westhus': ['Eric']}\n"
     ]
    }
   ],
   "source": [
    "\n",
    " families = {}\n",
    "    \n",
    "for name in names:\n",
    "    last_name=name[0]\n",
    "    first_name=name[1]\n",
    "    if last_name in families:\n",
    "        families[last_name].append(first_name)\n",
    "    else:\n",
    "        families[last_name]=[first_name]\n",
    "    \n",
    "print(name[0] + \", \" + name[1])\n",
    "            \n",
    "print(families)\n"
   ]
  },
  {
   "cell_type": "code",
   "execution_count": null,
   "metadata": {},
   "outputs": [],
   "source": []
  },
  {
   "cell_type": "code",
   "execution_count": null,
   "metadata": {},
   "outputs": [],
   "source": []
  },
  {
   "cell_type": "code",
   "execution_count": null,
   "metadata": {},
   "outputs": [],
   "source": []
  },
  {
   "cell_type": "code",
   "execution_count": null,
   "metadata": {},
   "outputs": [],
   "source": []
  }
 ],
 "metadata": {
  "kernelspec": {
   "display_name": "Python 3",
   "language": "python",
   "name": "python3"
  },
  "language_info": {
   "codemirror_mode": {
    "name": "ipython",
    "version": 3
   },
   "file_extension": ".py",
   "mimetype": "text/x-python",
   "name": "python",
   "nbconvert_exporter": "python",
   "pygments_lexer": "ipython3",
   "version": "3.6.7"
  }
 },
 "nbformat": 4,
 "nbformat_minor": 4
}
